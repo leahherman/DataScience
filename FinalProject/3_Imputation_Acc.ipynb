{
 "cells": [
  {
   "cell_type": "markdown",
   "metadata": {
    "id": "FX8nc-a6m8k3"
   },
   "source": [
    "#                                      Imputations ....\n"
   ]
  },
  {
   "cell_type": "code",
   "execution_count": 3,
   "metadata": {
    "id": "9lMs4D8Im8lC"
   },
   "outputs": [],
   "source": [
    "import pandas as pd\n",
    "import numpy as np\n",
    "\n",
    "import matplotlib.pyplot as plt\n",
    "import seaborn as sns\n",
    "import scipy.stats as stats\n",
    "\n",
    "# to split  the datasets\n",
    "from sklearn.model_selection import train_test_split\n",
    "import datetime\n",
    "from scipy import stats\n",
    "from   pandas import  DataFrame\n"
   ]
  },
  {
   "cell_type": "code",
   "execution_count": 4,
   "metadata": {
    "colab": {
     "base_uri": "https://localhost:8080/"
    },
    "executionInfo": {
     "elapsed": 1122,
     "status": "ok",
     "timestamp": 1612043996979,
     "user": {
      "displayName": "leah hermann",
      "photoUrl": "https://lh3.googleusercontent.com/a-/AOh14GjyE0eyoNEG51zHWkv8BDz54pF0p0TlKOoKlVLi2A=s64",
      "userId": "05497123212031223998"
     },
     "user_tz": -120
    },
    "id": "6NOFpAmvm8lE",
    "outputId": "b3b12880-28e0-4102-d90b-bfbf410026ed"
   },
   "outputs": [],
   "source": [
    "# from google.colab import drive \n",
    "# drive.mount('/content/gdrive')\n"
   ]
  },
  {
   "cell_type": "code",
   "execution_count": 5,
   "metadata": {
    "colab": {
     "base_uri": "https://localhost:8080/",
     "height": 309
    },
    "executionInfo": {
     "elapsed": 33359,
     "status": "ok",
     "timestamp": 1612044046217,
     "user": {
      "displayName": "leah hermann",
      "photoUrl": "https://lh3.googleusercontent.com/a-/AOh14GjyE0eyoNEG51zHWkv8BDz54pF0p0TlKOoKlVLi2A=s64",
      "userId": "05497123212031223998"
     },
     "user_tz": -120
    },
    "id": "HQ5du4cfVPj6",
    "outputId": "706179dc-4414-4cca-e9ba-8a6e0d112692"
   },
   "outputs": [
    {
     "data": {
      "text/html": [
       "<div>\n",
       "<style scoped>\n",
       "    .dataframe tbody tr th:only-of-type {\n",
       "        vertical-align: middle;\n",
       "    }\n",
       "\n",
       "    .dataframe tbody tr th {\n",
       "        vertical-align: top;\n",
       "    }\n",
       "\n",
       "    .dataframe thead th {\n",
       "        text-align: right;\n",
       "    }\n",
       "</style>\n",
       "<table border=\"1\" class=\"dataframe\">\n",
       "  <thead>\n",
       "    <tr style=\"text-align: right;\">\n",
       "      <th></th>\n",
       "      <th>accident_day</th>\n",
       "      <th>accident_district</th>\n",
       "      <th>accident_district_hebrew</th>\n",
       "      <th>accident_hour</th>\n",
       "      <th>accident_hour_raw</th>\n",
       "      <th>accident_hour_raw_hebrew</th>\n",
       "      <th>accident_id</th>\n",
       "      <th>accident_minute</th>\n",
       "      <th>accident_month</th>\n",
       "      <th>accident_municipal_status</th>\n",
       "      <th>...</th>\n",
       "      <th>traffic_light_hebrew</th>\n",
       "      <th>vehicle_attribution</th>\n",
       "      <th>vehicle_attribution_hebrew</th>\n",
       "      <th>vehicle_damage</th>\n",
       "      <th>vehicle_damage_hebrew</th>\n",
       "      <th>vehicle_status</th>\n",
       "      <th>vehicle_type</th>\n",
       "      <th>vehicle_type_hebrew</th>\n",
       "      <th>weather</th>\n",
       "      <th>weather_hebrew</th>\n",
       "    </tr>\n",
       "  </thead>\n",
       "  <tbody>\n",
       "    <tr>\n",
       "      <th>0</th>\n",
       "      <td>9</td>\n",
       "      <td>11</td>\n",
       "      <td>ירושלים</td>\n",
       "      <td>12</td>\n",
       "      <td>51</td>\n",
       "      <td>12:30-12:44</td>\n",
       "      <td>2018009337</td>\n",
       "      <td>30</td>\n",
       "      <td>11</td>\n",
       "      <td>NaN</td>\n",
       "      <td>...</td>\n",
       "      <td>לא ידוע</td>\n",
       "      <td>1.0</td>\n",
       "      <td>ישראלי</td>\n",
       "      <td>1.0</td>\n",
       "      <td>קל</td>\n",
       "      <td>0.0</td>\n",
       "      <td>1</td>\n",
       "      <td>רכב נוסעים פרטי</td>\n",
       "      <td>9</td>\n",
       "      <td>לא ידוע</td>\n",
       "    </tr>\n",
       "    <tr>\n",
       "      <th>1</th>\n",
       "      <td>18</td>\n",
       "      <td>24</td>\n",
       "      <td>עכו</td>\n",
       "      <td>7</td>\n",
       "      <td>29</td>\n",
       "      <td>NaN</td>\n",
       "      <td>2008007226</td>\n",
       "      <td>0</td>\n",
       "      <td>5</td>\n",
       "      <td>NaN</td>\n",
       "      <td>...</td>\n",
       "      <td>לא ידוע</td>\n",
       "      <td>1.0</td>\n",
       "      <td>ישראלי</td>\n",
       "      <td>NaN</td>\n",
       "      <td>NaN</td>\n",
       "      <td>NaN</td>\n",
       "      <td>1</td>\n",
       "      <td>רכב נוסעים פרטי</td>\n",
       "      <td>9</td>\n",
       "      <td>לא ידוע</td>\n",
       "    </tr>\n",
       "    <tr>\n",
       "      <th>2</th>\n",
       "      <td>26</td>\n",
       "      <td>41</td>\n",
       "      <td>השרון</td>\n",
       "      <td>8</td>\n",
       "      <td>35</td>\n",
       "      <td>NaN</td>\n",
       "      <td>2010014339</td>\n",
       "      <td>30</td>\n",
       "      <td>3</td>\n",
       "      <td>NaN</td>\n",
       "      <td>...</td>\n",
       "      <td>לא ידוע</td>\n",
       "      <td>1.0</td>\n",
       "      <td>ישראלי</td>\n",
       "      <td>NaN</td>\n",
       "      <td>NaN</td>\n",
       "      <td>NaN</td>\n",
       "      <td>12</td>\n",
       "      <td>מונית</td>\n",
       "      <td>9</td>\n",
       "      <td>לא ידוע</td>\n",
       "    </tr>\n",
       "    <tr>\n",
       "      <th>3</th>\n",
       "      <td>24</td>\n",
       "      <td>51</td>\n",
       "      <td>תל אביב</td>\n",
       "      <td>13</td>\n",
       "      <td>55</td>\n",
       "      <td>13:30-13:44</td>\n",
       "      <td>2017081241</td>\n",
       "      <td>30</td>\n",
       "      <td>4</td>\n",
       "      <td>0.0</td>\n",
       "      <td>...</td>\n",
       "      <td>לא ידוע</td>\n",
       "      <td>1.0</td>\n",
       "      <td>ישראלי</td>\n",
       "      <td>4.0</td>\n",
       "      <td>אין נזק</td>\n",
       "      <td>0.0</td>\n",
       "      <td>1</td>\n",
       "      <td>רכב נוסעים פרטי</td>\n",
       "      <td>9</td>\n",
       "      <td>לא ידוע</td>\n",
       "    </tr>\n",
       "    <tr>\n",
       "      <th>4</th>\n",
       "      <td>12</td>\n",
       "      <td>99</td>\n",
       "      <td>NaN</td>\n",
       "      <td>16</td>\n",
       "      <td>67</td>\n",
       "      <td>NaN</td>\n",
       "      <td>2012043901</td>\n",
       "      <td>30</td>\n",
       "      <td>6</td>\n",
       "      <td>99.0</td>\n",
       "      <td>...</td>\n",
       "      <td>לא ידוע</td>\n",
       "      <td>1.0</td>\n",
       "      <td>ישראלי</td>\n",
       "      <td>NaN</td>\n",
       "      <td>NaN</td>\n",
       "      <td>NaN</td>\n",
       "      <td>5</td>\n",
       "      <td>משא 12.1 עד 15.9 טון</td>\n",
       "      <td>1</td>\n",
       "      <td>בהיר</td>\n",
       "    </tr>\n",
       "  </tbody>\n",
       "</table>\n",
       "<p>5 rows × 90 columns</p>\n",
       "</div>"
      ],
      "text/plain": [
       "   accident_day  accident_district accident_district_hebrew  accident_hour  \\\n",
       "0             9                 11                  ירושלים             12   \n",
       "1            18                 24                      עכו              7   \n",
       "2            26                 41                    השרון              8   \n",
       "3            24                 51                  תל אביב             13   \n",
       "4            12                 99                      NaN             16   \n",
       "\n",
       "   accident_hour_raw accident_hour_raw_hebrew  accident_id  accident_minute  \\\n",
       "0                 51              12:30-12:44   2018009337               30   \n",
       "1                 29                      NaN   2008007226                0   \n",
       "2                 35                      NaN   2010014339               30   \n",
       "3                 55              13:30-13:44   2017081241               30   \n",
       "4                 67                      NaN   2012043901               30   \n",
       "\n",
       "   accident_month  accident_municipal_status  ... traffic_light_hebrew  \\\n",
       "0              11                        NaN  ...              לא ידוע   \n",
       "1               5                        NaN  ...              לא ידוע   \n",
       "2               3                        NaN  ...              לא ידוע   \n",
       "3               4                        0.0  ...              לא ידוע   \n",
       "4               6                       99.0  ...              לא ידוע   \n",
       "\n",
       "   vehicle_attribution vehicle_attribution_hebrew  vehicle_damage  \\\n",
       "0                  1.0                     ישראלי             1.0   \n",
       "1                  1.0                     ישראלי             NaN   \n",
       "2                  1.0                     ישראלי             NaN   \n",
       "3                  1.0                     ישראלי             4.0   \n",
       "4                  1.0                     ישראלי             NaN   \n",
       "\n",
       "  vehicle_damage_hebrew  vehicle_status vehicle_type   vehicle_type_hebrew  \\\n",
       "0                    קל             0.0            1       רכב נוסעים פרטי   \n",
       "1                   NaN             NaN            1       רכב נוסעים פרטי   \n",
       "2                   NaN             NaN           12                 מונית   \n",
       "3               אין נזק             0.0            1       רכב נוסעים פרטי   \n",
       "4                   NaN             NaN            5  משא 12.1 עד 15.9 טון   \n",
       "\n",
       "  weather  weather_hebrew  \n",
       "0       9         לא ידוע  \n",
       "1       9         לא ידוע  \n",
       "2       9         לא ידוע  \n",
       "3       9         לא ידוע  \n",
       "4       1            בהיר  \n",
       "\n",
       "[5 rows x 90 columns]"
      ]
     },
     "execution_count": 5,
     "metadata": {},
     "output_type": "execute_result"
    }
   ],
   "source": [
    "import pandas as pd \n",
    "\n",
    "# X_train=pd.read_csv('gdrive/My Drive/Acc_FP/X_train.csv')\n",
    "# X_test=pd.read_csv('gdrive/My Drive/Acc_FP/X_test.csv')\n",
    "# X_dev=pd.read_csv('gdrive/My Drive/Acc_FP/X_dev.csv')\n",
    "# y_train=pd.read_csv('gdrive/My Drive/Acc_FP/y_train.csv')\n",
    "# y_test=pd.read_csv('gdrive/My Drive/Acc_FP/y_test.csv')\n",
    "# y_dev=pd.read_csv('gdrive/My Drive/Acc_FP/y_dev.csv')\n",
    "\n",
    "X_train=pd.read_csv('../X_train.csv')\n",
    "X_test=pd.read_csv('../X_test.csv')\n",
    "X_dev=pd.read_csv('../X_dev.csv')\n",
    "y_train=pd.read_csv('../y_train.csv')\n",
    "y_test=pd.read_csv('../y_test.csv')\n",
    "y_dev=pd.read_csv('../y_dev.csv')\n",
    "\n",
    "\n",
    "X_train.head()\n"
   ]
  },
  {
   "cell_type": "code",
   "execution_count": 6,
   "metadata": {},
   "outputs": [],
   "source": [
    "# PK  ==  provider_and_id\n",
    "y_train[\"provider_and_id\"]= X_train[\"provider_and_id\"].copy()\n",
    "y_test[\"provider_and_id\"]= X_test[\"provider_and_id\"].copy()\n",
    "y_dev[\"provider_and_id\"]= X_dev[\"provider_and_id\"].copy()\n"
   ]
  },
  {
   "cell_type": "code",
   "execution_count": 7,
   "metadata": {},
   "outputs": [
    {
     "data": {
      "text/plain": [
       "((396202, 3),\n",
       " (396202, 90),\n",
       " (242573, 3),\n",
       " (242573, 90),\n",
       " (169801, 3),\n",
       " (169801, 90))"
      ]
     },
     "execution_count": 7,
     "metadata": {},
     "output_type": "execute_result"
    }
   ],
   "source": [
    "y_train.shape , X_train.shape , y_test.shape , X_test.shape  , y_dev.shape  , X_dev.shape"
   ]
  },
  {
   "cell_type": "code",
   "execution_count": null,
   "metadata": {},
   "outputs": [],
   "source": []
  },
  {
   "cell_type": "code",
   "execution_count": 8,
   "metadata": {
    "id": "E-TTU4Hvm8lE"
   },
   "outputs": [],
   "source": [
    "pd.set_option('display.max_columns', None)"
   ]
  },
  {
   "cell_type": "code",
   "execution_count": 9,
   "metadata": {
    "id": "zXSReji1m8lF"
   },
   "outputs": [
    {
     "data": {
      "text/plain": [
       "(396202, 90)"
      ]
     },
     "execution_count": 9,
     "metadata": {},
     "output_type": "execute_result"
    }
   ],
   "source": [
    "X_train.shape"
   ]
  },
  {
   "cell_type": "code",
   "execution_count": 10,
   "metadata": {
    "colab": {
     "base_uri": "https://localhost:8080/"
    },
    "executionInfo": {
     "elapsed": 1915,
     "status": "ok",
     "timestamp": 1612044060446,
     "user": {
      "displayName": "leah hermann",
      "photoUrl": "https://lh3.googleusercontent.com/a-/AOh14GjyE0eyoNEG51zHWkv8BDz54pF0p0TlKOoKlVLi2A=s64",
      "userId": "05497123212031223998"
     },
     "user_tz": -120
    },
    "id": "ZCYqurB7m8lI",
    "outputId": "39b29f16-5e6c-410a-f051-9e10923aa0da"
   },
   "outputs": [],
   "source": [
    "float_col = X_train.select_dtypes(include=['float64']) # This will select float columns only\n",
    "\n",
    "#print(float_col.columns.values)\n",
    "\n",
    "# list(float_col.columns.values)\n",
    "for col in float_col.columns.values:\n",
    "    \n",
    "    X_train[col] = X_train[col].astype('Int64')\n",
    "    X_test[col] =  X_test[col].astype('Int64')\n",
    "    X_dev[col] =    X_dev[col].astype('Int64')\n",
    "\n"
   ]
  },
  {
   "cell_type": "code",
   "execution_count": 11,
   "metadata": {
    "colab": {
     "base_uri": "https://localhost:8080/"
    },
    "executionInfo": {
     "elapsed": 1143,
     "status": "ok",
     "timestamp": 1612044060448,
     "user": {
      "displayName": "leah hermann",
      "photoUrl": "https://lh3.googleusercontent.com/a-/AOh14GjyE0eyoNEG51zHWkv8BDz54pF0p0TlKOoKlVLi2A=s64",
      "userId": "05497123212031223998"
     },
     "user_tz": -120
    },
    "id": "3dj8x5HPm8lJ",
    "outputId": "c8e6866d-e7a9-46a1-a063-5c10a5b1d048"
   },
   "outputs": [
    {
     "data": {
      "text/plain": [
       "['accident_day',\n",
       " 'accident_district',\n",
       " 'accident_hour',\n",
       " 'accident_hour_raw',\n",
       " 'accident_id',\n",
       " 'accident_minute',\n",
       " 'accident_month',\n",
       " 'accident_municipal_status',\n",
       " 'accident_natural_area',\n",
       " 'accident_region',\n",
       " 'accident_type',\n",
       " 'accident_year',\n",
       " 'accident_yishuv_shape',\n",
       " 'accident_yishuv_symbol',\n",
       " 'car_id',\n",
       " 'cross_direction',\n",
       " 'cross_location',\n",
       " 'cross_mode',\n",
       " 'day_in_week',\n",
       " 'day_night',\n",
       " 'day_type',\n",
       " 'didnt_cross',\n",
       " 'driving_directions',\n",
       " 'engine_volume',\n",
       " 'geo_area',\n",
       " 'id',\n",
       " 'location_accuracy',\n",
       " 'manufacturing_year',\n",
       " 'multi_lane',\n",
       " 'object_distance',\n",
       " 'one_lane',\n",
       " 'police_unit',\n",
       " 'provider_and_id',\n",
       " 'provider_code',\n",
       " 'road_intactness',\n",
       " 'road_light',\n",
       " 'road_object',\n",
       " 'road_shape',\n",
       " 'road_sign',\n",
       " 'road_surface',\n",
       " 'road_type',\n",
       " 'road_width',\n",
       " 'seats',\n",
       " 'speed_limit',\n",
       " 'street1',\n",
       " 'total_weight',\n",
       " 'traffic_light',\n",
       " 'vehicle_attribution',\n",
       " 'vehicle_damage',\n",
       " 'vehicle_status',\n",
       " 'vehicle_type',\n",
       " 'weather']"
      ]
     },
     "execution_count": 11,
     "metadata": {},
     "output_type": "execute_result"
    }
   ],
   "source": [
    "numeric_cols = X_train.select_dtypes(include=np.number).columns.tolist()\n",
    "numeric_cols"
   ]
  },
  {
   "cell_type": "code",
   "execution_count": 12,
   "metadata": {
    "colab": {
     "base_uri": "https://localhost:8080/"
    },
    "executionInfo": {
     "elapsed": 1611,
     "status": "ok",
     "timestamp": 1612044063986,
     "user": {
      "displayName": "leah hermann",
      "photoUrl": "https://lh3.googleusercontent.com/a-/AOh14GjyE0eyoNEG51zHWkv8BDz54pF0p0TlKOoKlVLi2A=s64",
      "userId": "05497123212031223998"
     },
     "user_tz": -120
    },
    "id": "P9qxJO20m8lK",
    "outputId": "b7961b7b-336b-4c3a-c369-ea454f6f6043"
   },
   "outputs": [
    {
     "data": {
      "text/plain": [
       "(396202, 90)"
      ]
     },
     "execution_count": 12,
     "metadata": {},
     "output_type": "execute_result"
    }
   ],
   "source": [
    "\n",
    "X_train_before = X_train.copy()\n",
    "X_test_before = X_test.copy()\n",
    "X_dev_before =  X_dev.copy()\n",
    "\n",
    "X_train.shape"
   ]
  },
  {
   "cell_type": "code",
   "execution_count": 13,
   "metadata": {
    "colab": {
     "base_uri": "https://localhost:8080/"
    },
    "executionInfo": {
     "elapsed": 803,
     "status": "ok",
     "timestamp": 1612044062258,
     "user": {
      "displayName": "leah hermann",
      "photoUrl": "https://lh3.googleusercontent.com/a-/AOh14GjyE0eyoNEG51zHWkv8BDz54pF0p0TlKOoKlVLi2A=s64",
      "userId": "05497123212031223998"
     },
     "user_tz": -120
    },
    "id": "66bt-tPem8lJ",
    "outputId": "918b4e66-5975-432f-8208-2708211721fd"
   },
   "outputs": [
    {
     "name": "stdout",
     "output_type": "stream",
     "text": [
      "52\n",
      "['accident_municipal_status', 'accident_natural_area', 'accident_region', 'accident_yishuv_shape', 'accident_yishuv_symbol', 'cross_location', 'cross_mode', 'driving_directions', 'manufacturing_year', 'multi_lane', 'one_lane', 'road_intactness', 'road_width', 'speed_limit', 'street1', 'total_weight', 'traffic_light', 'vehicle_attribution', 'vehicle_damage', 'vehicle_status']\n",
      "20\n"
     ]
    }
   ],
   "source": [
    "# find the variables with missing observations\n",
    "\n",
    "X_train = X_train[numeric_cols]\n",
    "X_test = X_test[numeric_cols]\n",
    "X_dev = X_dev[numeric_cols]\n",
    "print(len(X_train.columns))\n",
    "\n",
    "vars_with_na = [var for var in X_train.columns if X_train[var].isnull().mean() > 0]\n",
    "print(vars_with_na)\n",
    "print(len(vars_with_na))\n"
   ]
  },
  {
   "cell_type": "code",
   "execution_count": 14,
   "metadata": {
    "colab": {
     "base_uri": "https://localhost:8080/",
     "height": 509
    },
    "executionInfo": {
     "elapsed": 627,
     "status": "ok",
     "timestamp": 1612044063990,
     "user": {
      "displayName": "leah hermann",
      "photoUrl": "https://lh3.googleusercontent.com/a-/AOh14GjyE0eyoNEG51zHWkv8BDz54pF0p0TlKOoKlVLi2A=s64",
      "userId": "05497123212031223998"
     },
     "user_tz": -120
    },
    "id": "EkzICZ9am8lK",
    "outputId": "33a67ce3-25d1-4e84-a2dc-57d1f8850f51"
   },
   "outputs": [
    {
     "data": {
      "text/html": [
       "<div>\n",
       "<style scoped>\n",
       "    .dataframe tbody tr th:only-of-type {\n",
       "        vertical-align: middle;\n",
       "    }\n",
       "\n",
       "    .dataframe tbody tr th {\n",
       "        vertical-align: top;\n",
       "    }\n",
       "\n",
       "    .dataframe thead th {\n",
       "        text-align: right;\n",
       "    }\n",
       "</style>\n",
       "<table border=\"1\" class=\"dataframe\">\n",
       "  <thead>\n",
       "    <tr style=\"text-align: right;\">\n",
       "      <th></th>\n",
       "      <th>variable</th>\n",
       "      <th>na_percentage</th>\n",
       "    </tr>\n",
       "  </thead>\n",
       "  <tbody>\n",
       "    <tr>\n",
       "      <th>0</th>\n",
       "      <td>accident_municipal_status</td>\n",
       "      <td>0.463652</td>\n",
       "    </tr>\n",
       "    <tr>\n",
       "      <th>18</th>\n",
       "      <td>vehicle_damage</td>\n",
       "      <td>0.447562</td>\n",
       "    </tr>\n",
       "    <tr>\n",
       "      <th>19</th>\n",
       "      <td>vehicle_status</td>\n",
       "      <td>0.434470</td>\n",
       "    </tr>\n",
       "    <tr>\n",
       "      <th>5</th>\n",
       "      <td>cross_location</td>\n",
       "      <td>0.431800</td>\n",
       "    </tr>\n",
       "    <tr>\n",
       "      <th>6</th>\n",
       "      <td>cross_mode</td>\n",
       "      <td>0.431313</td>\n",
       "    </tr>\n",
       "    <tr>\n",
       "      <th>9</th>\n",
       "      <td>multi_lane</td>\n",
       "      <td>0.408569</td>\n",
       "    </tr>\n",
       "    <tr>\n",
       "      <th>11</th>\n",
       "      <td>road_intactness</td>\n",
       "      <td>0.382520</td>\n",
       "    </tr>\n",
       "    <tr>\n",
       "      <th>15</th>\n",
       "      <td>total_weight</td>\n",
       "      <td>0.379556</td>\n",
       "    </tr>\n",
       "    <tr>\n",
       "      <th>12</th>\n",
       "      <td>road_width</td>\n",
       "      <td>0.365935</td>\n",
       "    </tr>\n",
       "    <tr>\n",
       "      <th>13</th>\n",
       "      <td>speed_limit</td>\n",
       "      <td>0.362318</td>\n",
       "    </tr>\n",
       "    <tr>\n",
       "      <th>14</th>\n",
       "      <td>street1</td>\n",
       "      <td>0.351626</td>\n",
       "    </tr>\n",
       "    <tr>\n",
       "      <th>7</th>\n",
       "      <td>driving_directions</td>\n",
       "      <td>0.207664</td>\n",
       "    </tr>\n",
       "    <tr>\n",
       "      <th>3</th>\n",
       "      <td>accident_yishuv_shape</td>\n",
       "      <td>0.160883</td>\n",
       "    </tr>\n",
       "    <tr>\n",
       "      <th>4</th>\n",
       "      <td>accident_yishuv_symbol</td>\n",
       "      <td>0.102735</td>\n",
       "    </tr>\n",
       "    <tr>\n",
       "      <th>1</th>\n",
       "      <td>accident_natural_area</td>\n",
       "      <td>0.076188</td>\n",
       "    </tr>\n",
       "    <tr>\n",
       "      <th>2</th>\n",
       "      <td>accident_region</td>\n",
       "      <td>0.076188</td>\n",
       "    </tr>\n",
       "    <tr>\n",
       "      <th>8</th>\n",
       "      <td>manufacturing_year</td>\n",
       "      <td>0.040807</td>\n",
       "    </tr>\n",
       "    <tr>\n",
       "      <th>10</th>\n",
       "      <td>one_lane</td>\n",
       "      <td>0.038957</td>\n",
       "    </tr>\n",
       "    <tr>\n",
       "      <th>16</th>\n",
       "      <td>traffic_light</td>\n",
       "      <td>0.021671</td>\n",
       "    </tr>\n",
       "    <tr>\n",
       "      <th>17</th>\n",
       "      <td>vehicle_attribution</td>\n",
       "      <td>0.003963</td>\n",
       "    </tr>\n",
       "  </tbody>\n",
       "</table>\n",
       "</div>"
      ],
      "text/plain": [
       "                     variable  na_percentage\n",
       "0   accident_municipal_status       0.463652\n",
       "18             vehicle_damage       0.447562\n",
       "19             vehicle_status       0.434470\n",
       "5              cross_location       0.431800\n",
       "6                  cross_mode       0.431313\n",
       "9                  multi_lane       0.408569\n",
       "11            road_intactness       0.382520\n",
       "15               total_weight       0.379556\n",
       "12                 road_width       0.365935\n",
       "13                speed_limit       0.362318\n",
       "14                    street1       0.351626\n",
       "7          driving_directions       0.207664\n",
       "3       accident_yishuv_shape       0.160883\n",
       "4      accident_yishuv_symbol       0.102735\n",
       "1       accident_natural_area       0.076188\n",
       "2             accident_region       0.076188\n",
       "8          manufacturing_year       0.040807\n",
       "10                   one_lane       0.038957\n",
       "16              traffic_light       0.021671\n",
       "17        vehicle_attribution       0.003963"
      ]
     },
     "execution_count": 14,
     "metadata": {},
     "output_type": "execute_result"
    }
   ],
   "source": [
    "## So 20 features will Imputed\n",
    "\n",
    "data_na = X_train[vars_with_na].isnull().mean()\n",
    "\n",
    "# transform the array into a dataframe\n",
    "data_na = pd.DataFrame(data_na.reset_index())\n",
    "\n",
    "# add column names to the dataframe\n",
    "data_na.columns = ['variable', 'na_percentage']\n",
    "data_na.sort_values(by='na_percentage', ascending=False, inplace=True)\n",
    "\n",
    "# print\n",
    "data_na\n"
   ]
  },
  {
   "cell_type": "code",
   "execution_count": 15,
   "metadata": {
    "colab": {
     "base_uri": "https://localhost:8080/",
     "height": 202
    },
    "executionInfo": {
     "elapsed": 702,
     "status": "ok",
     "timestamp": 1612044066302,
     "user": {
      "displayName": "leah hermann",
      "photoUrl": "https://lh3.googleusercontent.com/a-/AOh14GjyE0eyoNEG51zHWkv8BDz54pF0p0TlKOoKlVLi2A=s64",
      "userId": "05497123212031223998"
     },
     "user_tz": -120
    },
    "id": "QPcWKIWKgvtm",
    "outputId": "2d256a67-1bdb-4546-9c88-44e88b117ff3"
   },
   "outputs": [
    {
     "data": {
      "text/html": [
       "<div>\n",
       "<style scoped>\n",
       "    .dataframe tbody tr th:only-of-type {\n",
       "        vertical-align: middle;\n",
       "    }\n",
       "\n",
       "    .dataframe tbody tr th {\n",
       "        vertical-align: top;\n",
       "    }\n",
       "\n",
       "    .dataframe thead th {\n",
       "        text-align: right;\n",
       "    }\n",
       "</style>\n",
       "<table border=\"1\" class=\"dataframe\">\n",
       "  <thead>\n",
       "    <tr style=\"text-align: right;\">\n",
       "      <th></th>\n",
       "      <th>variable</th>\n",
       "      <th>na_percentage</th>\n",
       "    </tr>\n",
       "  </thead>\n",
       "  <tbody>\n",
       "    <tr>\n",
       "      <th>8</th>\n",
       "      <td>manufacturing_year</td>\n",
       "      <td>0.040807</td>\n",
       "    </tr>\n",
       "    <tr>\n",
       "      <th>10</th>\n",
       "      <td>one_lane</td>\n",
       "      <td>0.038957</td>\n",
       "    </tr>\n",
       "    <tr>\n",
       "      <th>16</th>\n",
       "      <td>traffic_light</td>\n",
       "      <td>0.021671</td>\n",
       "    </tr>\n",
       "    <tr>\n",
       "      <th>17</th>\n",
       "      <td>vehicle_attribution</td>\n",
       "      <td>0.003963</td>\n",
       "    </tr>\n",
       "  </tbody>\n",
       "</table>\n",
       "</div>"
      ],
      "text/plain": [
       "               variable  na_percentage\n",
       "8    manufacturing_year       0.040807\n",
       "10             one_lane       0.038957\n",
       "16        traffic_light       0.021671\n",
       "17  vehicle_attribution       0.003963"
      ]
     },
     "execution_count": 15,
     "metadata": {},
     "output_type": "execute_result"
    }
   ],
   "source": [
    "\n",
    "vars_005 = data_na[ ( data_na[\"na_percentage\"]  < 0.05) ]\n",
    "vars_005 \n",
    "  "
   ]
  },
  {
   "cell_type": "code",
   "execution_count": 16,
   "metadata": {
    "colab": {
     "base_uri": "https://localhost:8080/"
    },
    "executionInfo": {
     "elapsed": 736,
     "status": "ok",
     "timestamp": 1612044068503,
     "user": {
      "displayName": "leah hermann",
      "photoUrl": "https://lh3.googleusercontent.com/a-/AOh14GjyE0eyoNEG51zHWkv8BDz54pF0p0TlKOoKlVLi2A=s64",
      "userId": "05497123212031223998"
     },
     "user_tz": -120
    },
    "id": "uMdY30adtwU8",
    "outputId": "d437f734-998a-4bdf-f402-63cde0cc781a"
   },
   "outputs": [
    {
     "data": {
      "text/plain": [
       "['manufacturing_year', 'one_lane', 'traffic_light', 'vehicle_attribution']"
      ]
     },
     "execution_count": 16,
     "metadata": {},
     "output_type": "execute_result"
    }
   ],
   "source": [
    "col_005 = vars_005[\"variable\"]\n",
    "list(col_005)"
   ]
  },
  {
   "cell_type": "code",
   "execution_count": 17,
   "metadata": {
    "id": "h5lUXtQ1vEjB"
   },
   "outputs": [],
   "source": [
    "X_trainORG= X_train.copy()"
   ]
  },
  {
   "cell_type": "code",
   "execution_count": 18,
   "metadata": {
    "colab": {
     "base_uri": "https://localhost:8080/"
    },
    "executionInfo": {
     "elapsed": 717,
     "status": "ok",
     "timestamp": 1612044072997,
     "user": {
      "displayName": "leah hermann",
      "photoUrl": "https://lh3.googleusercontent.com/a-/AOh14GjyE0eyoNEG51zHWkv8BDz54pF0p0TlKOoKlVLi2A=s64",
      "userId": "05497123212031223998"
     },
     "user_tz": -120
    },
    "id": "NqV99gkYcc-p",
    "outputId": "ad898e23-1804-4d77-b245-45c14141138b"
   },
   "outputs": [
    {
     "data": {
      "text/plain": [
       "(396202, 52)"
      ]
     },
     "execution_count": 18,
     "metadata": {},
     "output_type": "execute_result"
    }
   ],
   "source": [
    "X_trainORG.shape"
   ]
  },
  {
   "cell_type": "code",
   "execution_count": 19,
   "metadata": {
    "colab": {
     "base_uri": "https://localhost:8080/",
     "height": 415
    },
    "executionInfo": {
     "elapsed": 594,
     "status": "ok",
     "timestamp": 1612044073407,
     "user": {
      "displayName": "leah hermann",
      "photoUrl": "https://lh3.googleusercontent.com/a-/AOh14GjyE0eyoNEG51zHWkv8BDz54pF0p0TlKOoKlVLi2A=s64",
      "userId": "05497123212031223998"
     },
     "user_tz": -120
    },
    "id": "jgO4lw3Nr3cp",
    "outputId": "d57ce87a-9140-4de1-8390-b7b30581a8dc"
   },
   "outputs": [
    {
     "data": {
      "text/html": [
       "<div>\n",
       "<style scoped>\n",
       "    .dataframe tbody tr th:only-of-type {\n",
       "        vertical-align: middle;\n",
       "    }\n",
       "\n",
       "    .dataframe tbody tr th {\n",
       "        vertical-align: top;\n",
       "    }\n",
       "\n",
       "    .dataframe thead th {\n",
       "        text-align: right;\n",
       "    }\n",
       "</style>\n",
       "<table border=\"1\" class=\"dataframe\">\n",
       "  <thead>\n",
       "    <tr style=\"text-align: right;\">\n",
       "      <th></th>\n",
       "      <th>manufacturing_year</th>\n",
       "      <th>one_lane</th>\n",
       "      <th>traffic_light</th>\n",
       "      <th>vehicle_attribution</th>\n",
       "    </tr>\n",
       "  </thead>\n",
       "  <tbody>\n",
       "    <tr>\n",
       "      <th>0</th>\n",
       "      <td>2010</td>\n",
       "      <td>9</td>\n",
       "      <td>9</td>\n",
       "      <td>1</td>\n",
       "    </tr>\n",
       "    <tr>\n",
       "      <th>1</th>\n",
       "      <td>1998</td>\n",
       "      <td>9</td>\n",
       "      <td>9</td>\n",
       "      <td>1</td>\n",
       "    </tr>\n",
       "    <tr>\n",
       "      <th>2</th>\n",
       "      <td>2009</td>\n",
       "      <td>9</td>\n",
       "      <td>9</td>\n",
       "      <td>1</td>\n",
       "    </tr>\n",
       "    <tr>\n",
       "      <th>3</th>\n",
       "      <td>2011</td>\n",
       "      <td>9</td>\n",
       "      <td>9</td>\n",
       "      <td>1</td>\n",
       "    </tr>\n",
       "    <tr>\n",
       "      <th>4</th>\n",
       "      <td>2011</td>\n",
       "      <td>3</td>\n",
       "      <td>9</td>\n",
       "      <td>1</td>\n",
       "    </tr>\n",
       "    <tr>\n",
       "      <th>...</th>\n",
       "      <td>...</td>\n",
       "      <td>...</td>\n",
       "      <td>...</td>\n",
       "      <td>...</td>\n",
       "    </tr>\n",
       "    <tr>\n",
       "      <th>396197</th>\n",
       "      <td>2004</td>\n",
       "      <td>9</td>\n",
       "      <td>9</td>\n",
       "      <td>1</td>\n",
       "    </tr>\n",
       "    <tr>\n",
       "      <th>396198</th>\n",
       "      <td>2009</td>\n",
       "      <td>9</td>\n",
       "      <td>9</td>\n",
       "      <td>1</td>\n",
       "    </tr>\n",
       "    <tr>\n",
       "      <th>396199</th>\n",
       "      <td>2005</td>\n",
       "      <td>9</td>\n",
       "      <td>9</td>\n",
       "      <td>1</td>\n",
       "    </tr>\n",
       "    <tr>\n",
       "      <th>396200</th>\n",
       "      <td>2009</td>\n",
       "      <td>9</td>\n",
       "      <td>&lt;NA&gt;</td>\n",
       "      <td>1</td>\n",
       "    </tr>\n",
       "    <tr>\n",
       "      <th>396201</th>\n",
       "      <td>2003</td>\n",
       "      <td>9</td>\n",
       "      <td>9</td>\n",
       "      <td>1</td>\n",
       "    </tr>\n",
       "  </tbody>\n",
       "</table>\n",
       "<p>396202 rows × 4 columns</p>\n",
       "</div>"
      ],
      "text/plain": [
       "        manufacturing_year  one_lane  traffic_light  vehicle_attribution\n",
       "0                     2010         9              9                    1\n",
       "1                     1998         9              9                    1\n",
       "2                     2009         9              9                    1\n",
       "3                     2011         9              9                    1\n",
       "4                     2011         3              9                    1\n",
       "...                    ...       ...            ...                  ...\n",
       "396197                2004         9              9                    1\n",
       "396198                2009         9              9                    1\n",
       "396199                2005         9              9                    1\n",
       "396200                2009         9           <NA>                    1\n",
       "396201                2003         9              9                    1\n",
       "\n",
       "[396202 rows x 4 columns]"
      ]
     },
     "execution_count": 19,
     "metadata": {},
     "output_type": "execute_result"
    }
   ],
   "source": [
    "X_train[list(col_005)]"
   ]
  },
  {
   "cell_type": "code",
   "execution_count": 20,
   "metadata": {
    "id": "ZCidVIW5vEmX"
   },
   "outputs": [],
   "source": [
    "def Drop_na(df):\n",
    "    dfna = df.copy()\n",
    "    dfnoMissing = dfna.dropna()\n",
    "    print(df.shape  , dfnoMissing.shape)\n",
    "    ##  the distribution of a feature before and after\n",
    "    return dfnoMissing\n"
   ]
  },
  {
   "cell_type": "code",
   "execution_count": 21,
   "metadata": {
    "colab": {
     "base_uri": "https://localhost:8080/"
    },
    "executionInfo": {
     "elapsed": 644,
     "status": "ok",
     "timestamp": 1612044077985,
     "user": {
      "displayName": "leah hermann",
      "photoUrl": "https://lh3.googleusercontent.com/a-/AOh14GjyE0eyoNEG51zHWkv8BDz54pF0p0TlKOoKlVLi2A=s64",
      "userId": "05497123212031223998"
     },
     "user_tz": -120
    },
    "id": "2YzJ6tNgh85d",
    "outputId": "765a4238-e24e-4117-8f69-595926dab48e"
   },
   "outputs": [
    {
     "name": "stdout",
     "output_type": "stream",
     "text": [
      "(396202, 4) (359403, 4)\n",
      "(242573, 4) (220017, 4)\n",
      "(169801, 4) (153956, 4)\n"
     ]
    }
   ],
   "source": [
    "X_trainbefore = X_train.copy()\n",
    "X_testbefore = X_test.copy()\n",
    "X_devbefore = X_dev.copy()\n",
    "\n",
    "\n",
    "X_trainNoMissing = Drop_na(X_train[list(col_005)])\n",
    "X_testNoMissing = Drop_na(X_test[list(col_005)])\n",
    "X_devNoMissing = Drop_na(X_dev[list(col_005)])\n",
    "\n",
    "\n"
   ]
  },
  {
   "cell_type": "code",
   "execution_count": 22,
   "metadata": {},
   "outputs": [
    {
     "data": {
      "text/plain": [
       "<matplotlib.axes._subplots.AxesSubplot at 0x1a4cbb53668>"
      ]
     },
     "execution_count": 22,
     "metadata": {},
     "output_type": "execute_result"
    },
    {
     "data": {
      "image/png": "[encoded data removed]",
      "text/plain": [
       "<Figure size 432x288 with 1 Axes>"
      ]
     },
     "metadata": {
      "needs_background": "light"
     },
     "output_type": "display_data"
    }
   ],
   "source": [
    "# plt before and after\n",
    "import matplotlib.pyplot as plt\n",
    "\n",
    "fig = plt.figure()\n",
    "ax = fig.add_subplot(111)\n",
    "\n",
    "#  data\n",
    "# with NA\n",
    "X_trainbefore['one_lane'].plot.density(color='red')\n",
    "\n",
    "# without NA\n",
    "X_trainNoMissing['one_lane'].plot.density(color='blue' ,alpha=0.8)"
   ]
  },
  {
   "cell_type": "code",
   "execution_count": 23,
   "metadata": {},
   "outputs": [],
   "source": [
    "# can see it's the same ....."
   ]
  },
  {
   "cell_type": "code",
   "execution_count": 24,
   "metadata": {
    "id": "cSoBm8aZh9HP"
   },
   "outputs": [],
   "source": [
    "def diff(arr1, arr2):\n",
    "    arr2 = set(arr2)\n",
    "    return [item for item in arr1 if item not in arr2]\n"
   ]
  },
  {
   "cell_type": "code",
   "execution_count": 25,
   "metadata": {
    "colab": {
     "base_uri": "https://localhost:8080/"
    },
    "executionInfo": {
     "elapsed": 872,
     "status": "ok",
     "timestamp": 1612044085872,
     "user": {
      "displayName": "leah hermann",
      "photoUrl": "https://lh3.googleusercontent.com/a-/AOh14GjyE0eyoNEG51zHWkv8BDz54pF0p0TlKOoKlVLi2A=s64",
      "userId": "05497123212031223998"
     },
     "user_tz": -120
    },
    "id": "VJFUDahcjQI2",
    "outputId": "386eb227-70a7-4640-8c66-22dbef5a4e99"
   },
   "outputs": [
    {
     "data": {
      "text/plain": [
       "['accident_municipal_status',\n",
       " 'accident_natural_area',\n",
       " 'accident_region',\n",
       " 'accident_yishuv_shape',\n",
       " 'accident_yishuv_symbol',\n",
       " 'cross_location',\n",
       " 'cross_mode',\n",
       " 'driving_directions',\n",
       " 'multi_lane',\n",
       " 'road_intactness',\n",
       " 'road_width',\n",
       " 'speed_limit',\n",
       " 'street1',\n",
       " 'total_weight',\n",
       " 'vehicle_damage',\n",
       " 'vehicle_status']"
      ]
     },
     "execution_count": 25,
     "metadata": {},
     "output_type": "execute_result"
    }
   ],
   "source": [
    "lotMissingCols = diff (vars_with_na, col_005)\n",
    "lotMissingCols\n",
    " # cols to be imputed"
   ]
  },
  {
   "cell_type": "code",
   "execution_count": 26,
   "metadata": {
    "colab": {
     "base_uri": "https://localhost:8080/"
    },
    "executionInfo": {
     "elapsed": 679,
     "status": "ok",
     "timestamp": 1612044104555,
     "user": {
      "displayName": "leah hermann",
      "photoUrl": "https://lh3.googleusercontent.com/a-/AOh14GjyE0eyoNEG51zHWkv8BDz54pF0p0TlKOoKlVLi2A=s64",
      "userId": "05497123212031223998"
     },
     "user_tz": -120
    },
    "id": "3oiQUi-2tLwF",
    "outputId": "65213bac-fb5f-4b4d-f5f7-6f6d01b46875"
   },
   "outputs": [
    {
     "data": {
      "text/plain": [
       "(396202, 52)"
      ]
     },
     "execution_count": 26,
     "metadata": {},
     "output_type": "execute_result"
    }
   ],
   "source": [
    "X_trainORG.shape "
   ]
  },
  {
   "cell_type": "code",
   "execution_count": 27,
   "metadata": {
    "colab": {
     "base_uri": "https://localhost:8080/"
    },
    "executionInfo": {
     "elapsed": 1476,
     "status": "ok",
     "timestamp": 1612044106337,
     "user": {
      "displayName": "leah hermann",
      "photoUrl": "https://lh3.googleusercontent.com/a-/AOh14GjyE0eyoNEG51zHWkv8BDz54pF0p0TlKOoKlVLi2A=s64",
      "userId": "05497123212031223998"
     },
     "user_tz": -120
    },
    "id": "1BcI0jrhtLzW",
    "outputId": "7d351d1c-9e66-4fa6-e69a-da14f539dfdf"
   },
   "outputs": [
    {
     "data": {
      "text/plain": [
       "((359403, 52), (220017, 52), (153956, 52))"
      ]
     },
     "execution_count": 27,
     "metadata": {},
     "output_type": "execute_result"
    }
   ],
   "source": [
    "\n",
    "X_train=X_train.dropna(subset=col_005)\n",
    "X_test=X_test.dropna(subset=col_005)\n",
    "X_dev=X_dev.dropna(subset=col_005)\n",
    "X_train.shape ,  X_test.shape  , X_dev.shape\n",
    "\n",
    "\n"
   ]
  },
  {
   "cell_type": "code",
   "execution_count": 28,
   "metadata": {
    "id": "-uh1AOjwtL5q"
   },
   "outputs": [],
   "source": [
    "# now the y_XXX should be sinchronized ...."
   ]
  },
  {
   "cell_type": "code",
   "execution_count": 29,
   "metadata": {},
   "outputs": [
    {
     "data": {
      "text/plain": [
       "((359403, 3),\n",
       " (359403, 52),\n",
       " (220017, 3),\n",
       " (220017, 52),\n",
       " (153956, 3),\n",
       " (153956, 52))"
      ]
     },
     "execution_count": 29,
     "metadata": {},
     "output_type": "execute_result"
    }
   ],
   "source": [
    "\n",
    "y_train =y_train.loc[y_train['provider_and_id' ].isin(X_train['provider_and_id' ])]\n",
    "\n",
    "y_test= y_test.loc[y_test['provider_and_id'].isin(X_test['provider_and_id']) ]\n",
    "y_dev = y_dev.loc[y_dev['provider_and_id'].isin(X_dev['provider_and_id']) ]\n",
    "y_train.shape , X_train.shape ,y_test.shape ,X_test.shape ,y_dev.shape , X_dev.shape\n"
   ]
  },
  {
   "cell_type": "code",
   "execution_count": null,
   "metadata": {},
   "outputs": [],
   "source": []
  },
  {
   "cell_type": "code",
   "execution_count": null,
   "metadata": {},
   "outputs": [],
   "source": []
  },
  {
   "cell_type": "code",
   "execution_count": 30,
   "metadata": {
    "id": "9PBjcPl0jQO5"
   },
   "outputs": [],
   "source": [
    "#ggggggggggggggggggggggggggggggggggg\n",
    "# IMPUTING NA  to  lotMissingCols  columns"
   ]
  },
  {
   "cell_type": "code",
   "execution_count": 31,
   "metadata": {
    "id": "eFAb-BTU_JQl"
   },
   "outputs": [
    {
     "data": {
      "text/plain": [
       "['accident_municipal_status',\n",
       " 'accident_natural_area',\n",
       " 'accident_region',\n",
       " 'accident_yishuv_shape',\n",
       " 'accident_yishuv_symbol',\n",
       " 'cross_location',\n",
       " 'cross_mode',\n",
       " 'driving_directions',\n",
       " 'multi_lane',\n",
       " 'road_intactness',\n",
       " 'road_width',\n",
       " 'speed_limit',\n",
       " 'street1',\n",
       " 'total_weight',\n",
       " 'vehicle_damage',\n",
       " 'vehicle_status']"
      ]
     },
     "execution_count": 31,
     "metadata": {},
     "output_type": "execute_result"
    }
   ],
   "source": [
    "lotMissingCols"
   ]
  },
  {
   "cell_type": "code",
   "execution_count": null,
   "metadata": {
    "id": "iFOnsXkX_JXj"
   },
   "outputs": [],
   "source": []
  },
  {
   "cell_type": "code",
   "execution_count": null,
   "metadata": {
    "id": "QTzV4k6Qgwwe"
   },
   "outputs": [],
   "source": []
  },
  {
   "cell_type": "code",
   "execution_count": 32,
   "metadata": {
    "colab": {
     "base_uri": "https://localhost:8080/"
    },
    "executionInfo": {
     "elapsed": 503,
     "status": "ok",
     "timestamp": 1612044147950,
     "user": {
      "displayName": "leah hermann",
      "photoUrl": "https://lh3.googleusercontent.com/a-/AOh14GjyE0eyoNEG51zHWkv8BDz54pF0p0TlKOoKlVLi2A=s64",
      "userId": "05497123212031223998"
     },
     "user_tz": -120
    },
    "id": "gWLe7hbFgnGs",
    "outputId": "22149c15-ad8c-4804-9b55-fbba2e0910f5"
   },
   "outputs": [
    {
     "data": {
      "text/plain": [
       "['accident_municipal_status',\n",
       " 'accident_natural_area',\n",
       " 'accident_region',\n",
       " 'accident_yishuv_shape',\n",
       " 'accident_yishuv_symbol',\n",
       " 'cross_location',\n",
       " 'cross_mode',\n",
       " 'driving_directions',\n",
       " 'multi_lane',\n",
       " 'road_intactness',\n",
       " 'road_width',\n",
       " 'speed_limit',\n",
       " 'street1',\n",
       " 'total_weight',\n",
       " 'vehicle_damage',\n",
       " 'vehicle_status']"
      ]
     },
     "execution_count": 32,
     "metadata": {},
     "output_type": "execute_result"
    }
   ],
   "source": [
    "lotMissingCols"
   ]
  },
  {
   "cell_type": "code",
   "execution_count": null,
   "metadata": {
    "id": "k7PaTKywm8lL"
   },
   "outputs": [],
   "source": []
  },
  {
   "cell_type": "code",
   "execution_count": 33,
   "metadata": {
    "id": "mdXzhkS5m8lL"
   },
   "outputs": [],
   "source": [
    "X_train_org = X_train.copy()\n",
    "X_test_org = X_test.copy()\n",
    "X_dev_org = X_dev.copy()\n"
   ]
  },
  {
   "cell_type": "code",
   "execution_count": 34,
   "metadata": {
    "id": "EQ4qQEv2m8lL"
   },
   "outputs": [],
   "source": [
    "# # Imputation to lotMissingCols ...\n",
    "\n",
    "for col in lotMissingCols:\n",
    "    X_train[ col +'_imputed'] = X_train[ col ].copy()\n",
    "    X_test[ col +'_imputed'] = X_test[ col ].copy()\n",
    "    X_dev[ col +'_imputed'] = X_dev[ col ].copy()\n",
    "    \n",
    "    #X_train.shape\n",
    "    random_sample_train = X_train[col].dropna().sample(X_train[col].isnull().sum(), random_state=0)\n",
    "    random_sample_test = X_train[col].dropna().sample(X_test[col].isnull().sum(), random_state=0)\n",
    "    random_sample_dev = X_train[col].dropna().sample(  X_dev[col].isnull().sum(), random_state=0)\n",
    "\n",
    "    \n",
    "\n",
    "    \n",
    "    random_sample_train.index = X_train[X_train[col].isnull()].index\n",
    "    random_sample_test.index = X_test[X_test[col].isnull()].index\n",
    "    random_sample_dev.index = X_dev[X_dev[col].isnull()].index\n",
    "\n",
    "    X_train.loc[X_train[col].isnull(), col + '_imputed'] = random_sample_train\n",
    "    X_test.loc[X_test[col].isnull(), col +'_imputed'] = random_sample_test\n",
    "    X_dev.loc[X_dev[col].isnull(), col +'_imputed'] = random_sample_dev\n",
    "\n",
    "\n"
   ]
  },
  {
   "cell_type": "code",
   "execution_count": 35,
   "metadata": {
    "colab": {
     "base_uri": "https://localhost:8080/"
    },
    "executionInfo": {
     "elapsed": 768,
     "status": "ok",
     "timestamp": 1612044567612,
     "user": {
      "displayName": "leah hermann",
      "photoUrl": "https://lh3.googleusercontent.com/a-/AOh14GjyE0eyoNEG51zHWkv8BDz54pF0p0TlKOoKlVLi2A=s64",
      "userId": "05497123212031223998"
     },
     "user_tz": -120
    },
    "id": "DVzgJUsMVBHf",
    "outputId": "e64cb7cc-1baa-4a1e-9023-f6b7fd302ed4"
   },
   "outputs": [
    {
     "name": "stdout",
     "output_type": "stream",
     "text": [
      "26651\n"
     ]
    },
    {
     "data": {
      "text/plain": [
       "0"
      ]
     },
     "execution_count": 35,
     "metadata": {},
     "output_type": "execute_result"
    }
   ],
   "source": [
    "print(X_train['accident_region'].isnull().sum())\n",
    "X_train['accident_region_imputed'].isnull().sum()\n"
   ]
  },
  {
   "cell_type": "code",
   "execution_count": 36,
   "metadata": {
    "colab": {
     "base_uri": "https://localhost:8080/",
     "height": 281
    },
    "executionInfo": {
     "elapsed": 1964,
     "status": "ok",
     "timestamp": 1612045182247,
     "user": {
      "displayName": "leah hermann",
      "photoUrl": "https://lh3.googleusercontent.com/a-/AOh14GjyE0eyoNEG51zHWkv8BDz54pF0p0TlKOoKlVLi2A=s64",
      "userId": "05497123212031223998"
     },
     "user_tz": -120
    },
    "id": "Jl_4NC-mXBRc",
    "outputId": "35391b76-e5db-40de-c273-0d1e08e5c7ba"
   },
   "outputs": [],
   "source": [
    "\n",
    "# X_train[['accident_region', 'accident_region_imputed']].hist(bins=30, figsize=(8,4))\n",
    "# plt.show()"
   ]
  },
  {
   "cell_type": "code",
   "execution_count": 37,
   "metadata": {
    "colab": {
     "base_uri": "https://localhost:8080/",
     "height": 338
    },
    "executionInfo": {
     "elapsed": 2938,
     "status": "ok",
     "timestamp": 1612044961638,
     "user": {
      "displayName": "leah hermann",
      "photoUrl": "https://lh3.googleusercontent.com/a-/AOh14GjyE0eyoNEG51zHWkv8BDz54pF0p0TlKOoKlVLi2A=s64",
      "userId": "05497123212031223998"
     },
     "user_tz": -120
    },
    "id": "CqkmQ8S1SqSf",
    "outputId": "380640a7-8c69-41bc-cd1f-ab8c4616a338"
   },
   "outputs": [
    {
     "data": {
      "text/plain": [
       "<matplotlib.axes._subplots.AxesSubplot at 0x1a48ea5c748>"
      ]
     },
     "execution_count": 37,
     "metadata": {},
     "output_type": "execute_result"
    },
    {
     "data": {
      "image/png": "[encoded data removed]",
      "text/plain": [
       "<Figure size 432x288 with 1 Axes>"
      ]
     },
     "metadata": {
      "needs_background": "light"
     },
     "output_type": "display_data"
    }
   ],
   "source": [
    "X_train[['accident_region', 'accident_region_imputed']].boxplot()"
   ]
  },
  {
   "cell_type": "code",
   "execution_count": 38,
   "metadata": {
    "colab": {
     "base_uri": "https://localhost:8080/"
    },
    "executionInfo": {
     "elapsed": 796,
     "status": "ok",
     "timestamp": 1612043533926,
     "user": {
      "displayName": "leah hermann",
      "photoUrl": "https://lh3.googleusercontent.com/a-/AOh14GjyE0eyoNEG51zHWkv8BDz54pF0p0TlKOoKlVLi2A=s64",
      "userId": "05497123212031223998"
     },
     "user_tz": -120
    },
    "id": "XXfrYAV2m8lM",
    "outputId": "c3fea31d-6681-4ad5-ecd0-3ebef37374f9"
   },
   "outputs": [
    {
     "name": "stdout",
     "output_type": "stream",
     "text": [
      "(array([    30,     37,     53, ..., 359392, 359393, 359400], dtype=int64),)\n"
     ]
    },
    {
     "data": {
      "text/plain": [
       "(array([], dtype=int64),)"
      ]
     },
     "execution_count": 38,
     "metadata": {},
     "output_type": "execute_result"
    }
   ],
   "source": [
    "\n",
    "print( np.where(X_train.accident_region.isnull()))\n",
    "np.where(X_train.accident_region_imputed.isnull())"
   ]
  },
  {
   "cell_type": "code",
   "execution_count": 39,
   "metadata": {
    "id": "nGms_ij3m8lN"
   },
   "outputs": [],
   "source": [
    "\n",
    "X_train.reset_index(inplace=True, drop=True)\n",
    "X_test.reset_index(inplace=True, drop=True)\n",
    "X_dev.reset_index(inplace=True, drop=True)"
   ]
  },
  {
   "cell_type": "code",
   "execution_count": null,
   "metadata": {
    "id": "tdh8XKyzm8lO"
   },
   "outputs": [],
   "source": []
  },
  {
   "cell_type": "code",
   "execution_count": 40,
   "metadata": {
    "id": "As4UjiJHazux"
   },
   "outputs": [],
   "source": [
    "# Save the data"
   ]
  },
  {
   "cell_type": "code",
   "execution_count": 41,
   "metadata": {},
   "outputs": [],
   "source": [
    "# drop all the lotMissingCols  cols "
   ]
  },
  {
   "cell_type": "code",
   "execution_count": 42,
   "metadata": {},
   "outputs": [
    {
     "data": {
      "text/plain": [
       "(359403, 52)"
      ]
     },
     "execution_count": 42,
     "metadata": {},
     "output_type": "execute_result"
    }
   ],
   "source": [
    "X_train.shape\n",
    "X_train.drop(lotMissingCols, axis=1 , inplace=True)\n",
    "X_train.shape"
   ]
  },
  {
   "cell_type": "code",
   "execution_count": 43,
   "metadata": {},
   "outputs": [
    {
     "name": "stdout",
     "output_type": "stream",
     "text": [
      "(220017, 68)\n",
      "(220017, 52)\n",
      "(153956, 68)\n"
     ]
    },
    {
     "data": {
      "text/plain": [
       "(153956, 52)"
      ]
     },
     "execution_count": 43,
     "metadata": {},
     "output_type": "execute_result"
    }
   ],
   "source": [
    "print(X_test.shape)\n",
    "X_test.drop(lotMissingCols, axis=1 , inplace=True)\n",
    "print(X_test.shape)\n",
    "\n",
    "print(X_dev.shape)\n",
    "X_dev.drop(lotMissingCols, axis=1 , inplace=True)\n",
    "X_dev.shape"
   ]
  },
  {
   "cell_type": "code",
   "execution_count": 44,
   "metadata": {},
   "outputs": [],
   "source": [
    "# save only the numeric  . the 'o'  === String  only describes the numeric ."
   ]
  },
  {
   "cell_type": "code",
   "execution_count": 45,
   "metadata": {
    "id": "dAGckpioazyM"
   },
   "outputs": [],
   "source": [
    "\n",
    "# save the data\n",
    "# X_train.to_csv('gdrive/My Drive/Acc_FP/X_train_imputed.csv', index=False)\n",
    "# X_test.to_csv('gdrive/My Drive/Acc_FP/X_test_imputed.csv' ,index=False)\n",
    "# X_dev.to_csv('gdrive/My Drive/Acc_FP/X_dev_imputed.csv', index=False)\n",
    "\n",
    "X_train.to_csv('../X_train_imputed.csv', index=False)\n",
    "X_test.to_csv('../X_test_imputed.csv' ,index=False)\n",
    "X_dev.to_csv('../X_dev_imputed.csv', index=False)\n",
    "\n"
   ]
  },
  {
   "cell_type": "code",
   "execution_count": 82,
   "metadata": {},
   "outputs": [],
   "source": [
    "y_train.to_csv('../y_train_imputed.csv', index=False)\n",
    "y_test.to_csv('../y_test_imputed.csv' ,index=False)\n",
    "y_dev.to_csv('../y_dev_imputed.csv', index=False)\n"
   ]
  },
  {
   "cell_type": "code",
   "execution_count": 83,
   "metadata": {
    "colab": {
     "base_uri": "https://localhost:8080/"
    },
    "executionInfo": {
     "elapsed": 4271,
     "status": "ok",
     "timestamp": 1612091762505,
     "user": {
      "displayName": "leah hermann",
      "photoUrl": "https://lh3.googleusercontent.com/a-/AOh14GjyE0eyoNEG51zHWkv8BDz54pF0p0TlKOoKlVLi2A=s64",
      "userId": "05497123212031223998"
     },
     "user_tz": -120
    },
    "id": "7E9j8de6J8gj",
    "outputId": "e916b9a3-ecd1-4833-903a-3ed67b1475a3"
   },
   "outputs": [],
   "source": [
    "# !pip install missingno\n"
   ]
  },
  {
   "cell_type": "code",
   "execution_count": 84,
   "metadata": {
    "executionInfo": {
     "elapsed": 1655,
     "status": "ok",
     "timestamp": 1612091855578,
     "user": {
      "displayName": "leah hermann",
      "photoUrl": "https://lh3.googleusercontent.com/a-/AOh14GjyE0eyoNEG51zHWkv8BDz54pF0p0TlKOoKlVLi2A=s64",
      "userId": "05497123212031223998"
     },
     "user_tz": -120
    },
    "id": "GPtoeMo7J6fG"
   },
   "outputs": [],
   "source": [
    "# ### !pip install missingno\n",
    "# import missingno as msno\n",
    "\n",
    "# ### plot the missingness (nullity) matrix\n",
    "# missingdata_df = X_train.columns[X_train.isnull().any()].tolist()\n",
    "# msno.matrix(animals[missingdata_df])\n"
   ]
  },
  {
   "cell_type": "code",
   "execution_count": null,
   "metadata": {
    "id": "3ZGuSKXcJ6hy"
   },
   "outputs": [],
   "source": []
  },
  {
   "cell_type": "code",
   "execution_count": null,
   "metadata": {
    "id": "p8gZeIvJJ6lK"
   },
   "outputs": [],
   "source": []
  },
  {
   "cell_type": "code",
   "execution_count": null,
   "metadata": {
    "id": "X4SjO6aoaz08"
   },
   "outputs": [],
   "source": []
  }
 ],
 "metadata": {
  "colab": {
   "collapsed_sections": [],
   "name": "3_Imputation_Acc.ipynb",
   "provenance": []
  },
  "kernelspec": {
   "display_name": "Python 3",
   "language": "python",
   "name": "python3"
  },
  "language_info": {
   "codemirror_mode": {
    "name": "ipython",
    "version": 3
   },
   "file_extension": ".py",
   "mimetype": "text/x-python",
   "name": "python",
   "nbconvert_exporter": "python",
   "pygments_lexer": "ipython3",
   "version": "3.7.3"
  }
 },
 "nbformat": 4,
 "nbformat_minor": 1
}
