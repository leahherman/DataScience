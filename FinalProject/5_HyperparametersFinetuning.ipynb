{
 "cells": [
  {
   "cell_type": "markdown",
   "metadata": {
    "id": "oH80ucDChAUj"
   },
   "source": [
    "# Hyperparameter Finetuning"
   ]
  },
  {
   "cell_type": "code",
   "execution_count": 2,
   "metadata": {
    "executionInfo": {
     "elapsed": 1510,
     "status": "ok",
     "timestamp": 1613044609255,
     "user": {
      "displayName": "leah hermann",
      "photoUrl": "https://lh3.googleusercontent.com/a-/AOh14GjyE0eyoNEG51zHWkv8BDz54pF0p0TlKOoKlVLi2A=s64",
      "userId": "05497123212031223998"
     },
     "user_tz": -120
    },
    "id": "jbwKCHpyheBv"
   },
   "outputs": [],
   "source": [
    "\n",
    "import pandas as pd\n",
    "import seaborn as sns\n",
    "import numpy as np\n",
    "import scipy.stats as stats\n",
    "\n",
    "import matplotlib.pyplot as plt\n",
    "# from sklearn.cluster import KMeans\n",
    "# from sklearn.preprocessing import StandardScaler\n",
    "# from sklearn.decomposition import PCA\n",
    "import datetime\n",
    "from scipy import stats\n",
    "from   pandas import  DataFrame\n",
    "\n"
   ]
  },
  {
   "cell_type": "code",
   "execution_count": 3,
   "metadata": {
    "colab": {
     "base_uri": "https://localhost:8080/"
    },
    "executionInfo": {
     "elapsed": 610,
     "status": "ok",
     "timestamp": 1613044639388,
     "user": {
      "displayName": "leah hermann",
      "photoUrl": "https://lh3.googleusercontent.com/a-/AOh14GjyE0eyoNEG51zHWkv8BDz54pF0p0TlKOoKlVLi2A=s64",
      "userId": "05497123212031223998"
     },
     "user_tz": -120
    },
    "id": "TmpCYYfRhYgS",
    "outputId": "71d431b0-ffd8-4448-ae2a-db68428b7245"
   },
   "outputs": [
    {
     "name": "stdout",
     "output_type": "stream",
     "text": [
      "Drive already mounted at /content/gdrive; to attempt to forcibly remount, call drive.mount(\"/content/gdrive\", force_remount=True).\n"
     ]
    }
   ],
   "source": [
    "from google.colab import drive \n",
    "drive.mount('/content/gdrive')\n"
   ]
  },
  {
   "cell_type": "code",
   "execution_count": 3,
   "metadata": {
    "executionInfo": {
     "elapsed": 864,
     "status": "ok",
     "timestamp": 1613044640356,
     "user": {
      "displayName": "leah hermann",
      "photoUrl": "https://lh3.googleusercontent.com/a-/AOh14GjyE0eyoNEG51zHWkv8BDz54pF0p0TlKOoKlVLi2A=s64",
      "userId": "05497123212031223998"
     },
     "user_tz": -120
    },
    "id": "-l1BrDJIiBFb"
   },
   "outputs": [],
   "source": []
  },
  {
   "cell_type": "code",
   "execution_count": 5,
   "metadata": {
    "colab": {
     "base_uri": "https://localhost:8080/",
     "height": 222
    },
    "executionInfo": {
     "elapsed": 1740,
     "status": "ok",
     "timestamp": 1613044658073,
     "user": {
      "displayName": "leah hermann",
      "photoUrl": "https://lh3.googleusercontent.com/a-/AOh14GjyE0eyoNEG51zHWkv8BDz54pF0p0TlKOoKlVLi2A=s64",
      "userId": "05497123212031223998"
     },
     "user_tz": -120
    },
    "id": "qHNkfRULhYjh",
    "outputId": "becbcf1d-8ba8-4137-bd10-2f658a2d7a14"
   },
   "outputs": [
    {
     "data": {
      "text/html": [
       "<div>\n",
       "<style scoped>\n",
       "    .dataframe tbody tr th:only-of-type {\n",
       "        vertical-align: middle;\n",
       "    }\n",
       "\n",
       "    .dataframe tbody tr th {\n",
       "        vertical-align: top;\n",
       "    }\n",
       "\n",
       "    .dataframe thead th {\n",
       "        text-align: right;\n",
       "    }\n",
       "</style>\n",
       "<table border=\"1\" class=\"dataframe\">\n",
       "  <thead>\n",
       "    <tr style=\"text-align: right;\">\n",
       "      <th></th>\n",
       "      <th>accident_district</th>\n",
       "      <th>accident_hour</th>\n",
       "      <th>accident_id</th>\n",
       "      <th>accident_type</th>\n",
       "      <th>day_in_week</th>\n",
       "      <th>engine_volume</th>\n",
       "      <th>manufacturing_year</th>\n",
       "      <th>one_lane</th>\n",
       "      <th>road_light</th>\n",
       "      <th>vehicle_type</th>\n",
       "      <th>accident_municipal_status_imputed</th>\n",
       "      <th>accident_natural_area_imputed</th>\n",
       "      <th>accident_yishuv_shape_imputed</th>\n",
       "      <th>cross_location_imputed</th>\n",
       "      <th>cross_mode_imputed</th>\n",
       "      <th>multi_lane_imputed</th>\n",
       "      <th>road_intactness_imputed</th>\n",
       "      <th>road_width_imputed</th>\n",
       "      <th>speed_limit_imputed</th>\n",
       "      <th>street1_imputed</th>\n",
       "      <th>vehicle_damage_imputed</th>\n",
       "    </tr>\n",
       "  </thead>\n",
       "  <tbody>\n",
       "    <tr>\n",
       "      <th>0</th>\n",
       "      <td>11</td>\n",
       "      <td>12</td>\n",
       "      <td>2018009337</td>\n",
       "      <td>3</td>\n",
       "      <td>6</td>\n",
       "      <td>6</td>\n",
       "      <td>2010</td>\n",
       "      <td>9</td>\n",
       "      <td>11</td>\n",
       "      <td>1</td>\n",
       "      <td>0</td>\n",
       "      <td>611</td>\n",
       "      <td>99</td>\n",
       "      <td>0</td>\n",
       "      <td>0</td>\n",
       "      <td>0</td>\n",
       "      <td>0</td>\n",
       "      <td>0</td>\n",
       "      <td>0</td>\n",
       "      <td>345</td>\n",
       "      <td>1</td>\n",
       "    </tr>\n",
       "    <tr>\n",
       "      <th>1</th>\n",
       "      <td>24</td>\n",
       "      <td>7</td>\n",
       "      <td>2008007226</td>\n",
       "      <td>15</td>\n",
       "      <td>1</td>\n",
       "      <td>6</td>\n",
       "      <td>1998</td>\n",
       "      <td>9</td>\n",
       "      <td>11</td>\n",
       "      <td>1</td>\n",
       "      <td>18</td>\n",
       "      <td>242</td>\n",
       "      <td>16</td>\n",
       "      <td>0</td>\n",
       "      <td>0</td>\n",
       "      <td>0</td>\n",
       "      <td>0</td>\n",
       "      <td>3</td>\n",
       "      <td>1</td>\n",
       "      <td>310</td>\n",
       "      <td>4</td>\n",
       "    </tr>\n",
       "    <tr>\n",
       "      <th>2</th>\n",
       "      <td>41</td>\n",
       "      <td>8</td>\n",
       "      <td>2010014339</td>\n",
       "      <td>4</td>\n",
       "      <td>6</td>\n",
       "      <td>8</td>\n",
       "      <td>2009</td>\n",
       "      <td>9</td>\n",
       "      <td>11</td>\n",
       "      <td>12</td>\n",
       "      <td>9</td>\n",
       "      <td>411</td>\n",
       "      <td>14</td>\n",
       "      <td>0</td>\n",
       "      <td>9</td>\n",
       "      <td>2</td>\n",
       "      <td>0</td>\n",
       "      <td>0</td>\n",
       "      <td>0</td>\n",
       "      <td>417</td>\n",
       "      <td>1</td>\n",
       "    </tr>\n",
       "    <tr>\n",
       "      <th>3</th>\n",
       "      <td>51</td>\n",
       "      <td>13</td>\n",
       "      <td>2017081241</td>\n",
       "      <td>4</td>\n",
       "      <td>2</td>\n",
       "      <td>6</td>\n",
       "      <td>2011</td>\n",
       "      <td>9</td>\n",
       "      <td>11</td>\n",
       "      <td>1</td>\n",
       "      <td>0</td>\n",
       "      <td>511</td>\n",
       "      <td>13</td>\n",
       "      <td>0</td>\n",
       "      <td>0</td>\n",
       "      <td>0</td>\n",
       "      <td>0</td>\n",
       "      <td>0</td>\n",
       "      <td>0</td>\n",
       "      <td>2378</td>\n",
       "      <td>4</td>\n",
       "    </tr>\n",
       "    <tr>\n",
       "      <th>4</th>\n",
       "      <td>99</td>\n",
       "      <td>16</td>\n",
       "      <td>2012043901</td>\n",
       "      <td>3</td>\n",
       "      <td>3</td>\n",
       "      <td>12</td>\n",
       "      <td>2011</td>\n",
       "      <td>3</td>\n",
       "      <td>1</td>\n",
       "      <td>5</td>\n",
       "      <td>99</td>\n",
       "      <td>999</td>\n",
       "      <td>99</td>\n",
       "      <td>0</td>\n",
       "      <td>0</td>\n",
       "      <td>0</td>\n",
       "      <td>1</td>\n",
       "      <td>2</td>\n",
       "      <td>4</td>\n",
       "      <td>0</td>\n",
       "      <td>4</td>\n",
       "    </tr>\n",
       "  </tbody>\n",
       "</table>\n",
       "</div>"
      ],
      "text/plain": [
       "   accident_district  accident_hour  ...  street1_imputed  vehicle_damage_imputed\n",
       "0                 11             12  ...              345                       1\n",
       "1                 24              7  ...              310                       4\n",
       "2                 41              8  ...              417                       1\n",
       "3                 51             13  ...             2378                       4\n",
       "4                 99             16  ...                0                       4\n",
       "\n",
       "[5 rows x 21 columns]"
      ]
     },
     "execution_count": 5,
     "metadata": {
      "tags": []
     },
     "output_type": "execute_result"
    }
   ],
   "source": [
    "\n",
    "\n",
    "X_train=pd.read_csv('gdrive/My Drive/FinalRun/FP/X_train_feature_selection.csv')\n",
    "X_test=pd.read_csv('gdrive/My Drive/FinalRun/FP/X_test_feature_selection.csv')\n",
    "X_dev=pd.read_csv('gdrive/My Drive/FinalRun/FP/X_dev_feature_selection.csv')\n",
    "y_train=pd.read_csv('gdrive/My Drive/FinalRun/FP/y_train_feature_selection.csv')\n",
    "y_test=pd.read_csv('gdrive/My Drive/FinalRun/FP/y_test_feature_selection.csv')\n",
    "y_dev=pd.read_csv('gdrive/My Drive/FinalRun/FP/y_dev_feature_selection.csv')\n",
    "y_trainOpg = y_train.copy()\n",
    "y_testORG = y_test.copy()\n",
    "y_devORG = y_dev.copy()\n",
    "y_train = y_train[\"accident_severity\"]\n",
    "y_test = y_test[\"accident_severity\"]\n",
    "y_dev = y_dev[\"accident_severity\"]\n",
    "\n",
    "\n",
    "X_train.head()\n"
   ]
  },
  {
   "cell_type": "code",
   "execution_count": 6,
   "metadata": {
    "colab": {
     "base_uri": "https://localhost:8080/"
    },
    "executionInfo": {
     "elapsed": 586,
     "status": "ok",
     "timestamp": 1613044659274,
     "user": {
      "displayName": "leah hermann",
      "photoUrl": "https://lh3.googleusercontent.com/a-/AOh14GjyE0eyoNEG51zHWkv8BDz54pF0p0TlKOoKlVLi2A=s64",
      "userId": "05497123212031223998"
     },
     "user_tz": -120
    },
    "id": "cVFVIn84tBHo",
    "outputId": "029fe42d-ccf6-4384-8526-65d919b3502b"
   },
   "outputs": [
    {
     "data": {
      "text/plain": [
       "0    3\n",
       "1    3\n",
       "2    3\n",
       "3    3\n",
       "4    3\n",
       "Name: accident_severity, dtype: int64"
      ]
     },
     "execution_count": 6,
     "metadata": {
      "tags": []
     },
     "output_type": "execute_result"
    }
   ],
   "source": [
    "y_train.head()"
   ]
  },
  {
   "cell_type": "code",
   "execution_count": 7,
   "metadata": {
    "executionInfo": {
     "elapsed": 1402,
     "status": "ok",
     "timestamp": 1613044663063,
     "user": {
      "displayName": "leah hermann",
      "photoUrl": "https://lh3.googleusercontent.com/a-/AOh14GjyE0eyoNEG51zHWkv8BDz54pF0p0TlKOoKlVLi2A=s64",
      "userId": "05497123212031223998"
     },
     "user_tz": -120
    },
    "id": "FVQofaEWtIXp"
   },
   "outputs": [],
   "source": [
    "from sklearn.model_selection import GridSearchCV\n",
    "from sklearn.ensemble import RandomForestClassifier # the model \n",
    "from sklearn.model_selection import StratifiedKFold # number for cross-validation \n",
    "from sklearn.metrics import classification_report, plot_confusion_matrix\n"
   ]
  },
  {
   "cell_type": "code",
   "execution_count": 9,
   "metadata": {
    "executionInfo": {
     "elapsed": 591,
     "status": "ok",
     "timestamp": 1613044703027,
     "user": {
      "displayName": "leah hermann",
      "photoUrl": "https://lh3.googleusercontent.com/a-/AOh14GjyE0eyoNEG51zHWkv8BDz54pF0p0TlKOoKlVLi2A=s64",
      "userId": "05497123212031223998"
     },
     "user_tz": -120
    },
    "id": "oXzuyY3I5bdW"
   },
   "outputs": [],
   "source": [
    "\n",
    "score = 'accuracy' # the default is f1-score\n",
    "\n",
    "np.random.seed(0) # makes the random numbers predictable \n",
    "#kf = StratifiedKFold(random_state=0 ,n_splits=3) # n_splits default is 5\n",
    "\n",
    "# Create the parameters for grid search \n",
    "param_grid = {\n",
    "    'bootstrap': [True],\n",
    "    'max_features': ['sqrt'],\n",
    "    'max_depth': [5, 20, None],\n",
    "    'n_estimators': [10, 25, 100]\n",
    "}\n",
    "\n",
    "# Create the based model \n",
    "rfc_grid = RandomForestClassifier()\n"
   ]
  },
  {
   "cell_type": "code",
   "execution_count": 11,
   "metadata": {
    "executionInfo": {
     "elapsed": 582,
     "status": "ok",
     "timestamp": 1613044787352,
     "user": {
      "displayName": "leah hermann",
      "photoUrl": "https://lh3.googleusercontent.com/a-/AOh14GjyE0eyoNEG51zHWkv8BDz54pF0p0TlKOoKlVLi2A=s64",
      "userId": "05497123212031223998"
     },
     "user_tz": -120
    },
    "id": "8k6wp_GH6qUH"
   },
   "outputs": [],
   "source": [
    "\n",
    "# Create an Instance of grid search model\n",
    "grid_search = GridSearchCV(rfc_grid, param_grid=param_grid, verbose=2, # an integer which controls the verbosity\n",
    "                           scoring=score, cv=3, n_jobs=-1) # n_jobs=-1 make it worl in parallel on all processors\n",
    "                            \n"
   ]
  },
  {
   "cell_type": "code",
   "execution_count": 12,
   "metadata": {
    "colab": {
     "base_uri": "https://localhost:8080/"
    },
    "executionInfo": {
     "elapsed": 426205,
     "status": "ok",
     "timestamp": 1613045259803,
     "user": {
      "displayName": "leah hermann",
      "photoUrl": "https://lh3.googleusercontent.com/a-/AOh14GjyE0eyoNEG51zHWkv8BDz54pF0p0TlKOoKlVLi2A=s64",
      "userId": "05497123212031223998"
     },
     "user_tz": -120
    },
    "id": "J0qPIULl6qh6",
    "outputId": "ba43ef26-f4f2-4310-e76a-edb57222c956"
   },
   "outputs": [
    {
     "name": "stdout",
     "output_type": "stream",
     "text": [
      "Fitting 3 folds for each of 9 candidates, totalling 27 fits\n"
     ]
    },
    {
     "name": "stderr",
     "output_type": "stream",
     "text": [
      "[Parallel(n_jobs=-1)]: Using backend LokyBackend with 2 concurrent workers.\n",
      "[Parallel(n_jobs=-1)]: Done  27 out of  27 | elapsed:  6.0min finished\n"
     ]
    },
    {
     "data": {
      "text/plain": [
       "GridSearchCV(cv=3, error_score=nan,\n",
       "             estimator=RandomForestClassifier(bootstrap=True, ccp_alpha=0.0,\n",
       "                                              class_weight=None,\n",
       "                                              criterion='gini', max_depth=None,\n",
       "                                              max_features='auto',\n",
       "                                              max_leaf_nodes=None,\n",
       "                                              max_samples=None,\n",
       "                                              min_impurity_decrease=0.0,\n",
       "                                              min_impurity_split=None,\n",
       "                                              min_samples_leaf=1,\n",
       "                                              min_samples_split=2,\n",
       "                                              min_weight_fraction_leaf=0.0,\n",
       "                                              n_estimators=100, n_jobs=None,\n",
       "                                              oob_score=False,\n",
       "                                              random_state=None, verbose=0,\n",
       "                                              warm_start=False),\n",
       "             iid='deprecated', n_jobs=-1,\n",
       "             param_grid={'bootstrap': [True], 'max_depth': [5, 20, None],\n",
       "                         'max_features': ['sqrt'],\n",
       "                         'n_estimators': [10, 25, 100]},\n",
       "             pre_dispatch='2*n_jobs', refit=True, return_train_score=False,\n",
       "             scoring='accuracy', verbose=2)"
      ]
     },
     "execution_count": 12,
     "metadata": {
      "tags": []
     },
     "output_type": "execute_result"
    }
   ],
   "source": [
    "# train the grid\n",
    "grid_search.fit(X_train, y_train)\n",
    "\n"
   ]
  },
  {
   "cell_type": "code",
   "execution_count": 13,
   "metadata": {
    "colab": {
     "base_uri": "https://localhost:8080/"
    },
    "executionInfo": {
     "elapsed": 901,
     "status": "ok",
     "timestamp": 1613045485468,
     "user": {
      "displayName": "leah hermann",
      "photoUrl": "https://lh3.googleusercontent.com/a-/AOh14GjyE0eyoNEG51zHWkv8BDz54pF0p0TlKOoKlVLi2A=s64",
      "userId": "05497123212031223998"
     },
     "user_tz": -120
    },
    "id": "o_eEc0uL6qwQ",
    "outputId": "2fd57c7d-14b9-4598-d26f-67dd53e0ca0f"
   },
   "outputs": [
    {
     "name": "stdout",
     "output_type": "stream",
     "text": [
      "Best parameters set found on validation set:\n",
      "{'bootstrap': True, 'max_depth': 20, 'max_features': 'sqrt', 'n_estimators': 100} \n",
      "\n"
     ]
    }
   ],
   "source": [
    "\n",
    "print(\"Best parameters set found on validation set:\")\n",
    "print(grid_search.best_params_, '\\n')"
   ]
  },
  {
   "cell_type": "code",
   "execution_count": null,
   "metadata": {
    "id": "p1LpNF_T5eh_"
   },
   "outputs": [],
   "source": []
  },
  {
   "cell_type": "code",
   "execution_count": 17,
   "metadata": {
    "colab": {
     "base_uri": "https://localhost:8080/",
     "height": 662
    },
    "executionInfo": {
     "elapsed": 21160,
     "status": "ok",
     "timestamp": 1613045997674,
     "user": {
      "displayName": "leah hermann",
      "photoUrl": "https://lh3.googleusercontent.com/a-/AOh14GjyE0eyoNEG51zHWkv8BDz54pF0p0TlKOoKlVLi2A=s64",
      "userId": "05497123212031223998"
     },
     "user_tz": -120
    },
    "id": "psJ4_ysU5elZ",
    "outputId": "013e4f4a-d307-49cf-bf0a-a2a4bc97eb29"
   },
   "outputs": [
    {
     "name": "stdout",
     "output_type": "stream",
     "text": [
      "RandomForestClassifier(bootstrap=True, ccp_alpha=0.0, class_weight=None,\n",
      "                       criterion='gini', max_depth=20, max_features='sqrt',\n",
      "                       max_leaf_nodes=None, max_samples=None,\n",
      "                       min_impurity_decrease=0.0, min_impurity_split=None,\n",
      "                       min_samples_leaf=1, min_samples_split=2,\n",
      "                       min_weight_fraction_leaf=0.0, n_estimators=100,\n",
      "                       n_jobs=None, oob_score=False, random_state=None,\n",
      "                       verbose=0, warm_start=False)\n",
      "              precision    recall  f1-score   support\n",
      "\n",
      "           1       0.54      0.03      0.05       953\n",
      "           2       0.57      0.08      0.13      5731\n",
      "           3       0.97      1.00      0.99    213333\n",
      "\n",
      "    accuracy                           0.97    220017\n",
      "   macro avg       0.70      0.37      0.39    220017\n",
      "weighted avg       0.96      0.97      0.96    220017\n",
      "\n"
     ]
    },
    {
     "data": {
      "image/png": "[encoded data removed]",
      "text/plain": [
       "<Figure size 1080x360 with 4 Axes>"
      ]
     },
     "metadata": {
      "needs_background": "light",
      "tags": []
     },
     "output_type": "display_data"
    }
   ],
   "source": [
    "best_model = grid_search.best_estimator_ # take the best model\n",
    "print(best_model)\n",
    "#y_preddev = best_model.predict(X_dev)\n",
    "#print(classification_report(y_dev, y_preddev))\n",
    "\n",
    "\n",
    "y_pred = best_model.predict(X_test)\n",
    "print(classification_report(y_test, y_pred))\n",
    "\n",
    "\n",
    "fig, ax = plt.subplots(1, 2, figsize=(15,5))\n",
    "plot_confusion_matrix(best_model, X_test, y_test, cmap=plt.cm.PuRd,  ax=ax[0])\n",
    "ax[0].set_title('Test  Confusion matrix : Random Forest');\n",
    "\n",
    "plot_confusion_matrix(best_model, X_test, y_test, cmap=plt.cm.BuPu, normalize='true', ax=ax[1])\n",
    "ax[1].set_title('Normalized Confusion matrix : Random Forest');"
   ]
  },
  {
   "cell_type": "code",
   "execution_count": null,
   "metadata": {
    "id": "I2hcPOdR5bmT"
   },
   "outputs": [],
   "source": [
    "#  I have problem with HOT   ...  so I took minimum params  and I think that the problem ..\n",
    "#  but for me I understood the idea  ...."
   ]
  },
  {
   "cell_type": "code",
   "execution_count": null,
   "metadata": {
    "id": "ZyOl_u0d5bqi"
   },
   "outputs": [],
   "source": [
    "#  END"
   ]
  },
  {
   "cell_type": "code",
   "execution_count": 1,
   "metadata": {
    "id": "rktja8tQ7MpI"
   },
   "outputs": [
    {
     "ename": "NameError",
     "evalue": "name 'X_test' is not defined",
     "output_type": "error",
     "traceback": [
      "\u001b[1;31m---------------------------------------------------------------------------\u001b[0m",
      "\u001b[1;31mNameError\u001b[0m                                 Traceback (most recent call last)",
      "\u001b[1;32m<ipython-input-1-b23255e087d6>\u001b[0m in \u001b[0;36m<module>\u001b[1;34m\u001b[0m\n\u001b[0;32m      1\u001b[0m \u001b[1;31m#  the distribution of 3 type f acc. by the model\u001b[0m\u001b[1;33m\u001b[0m\u001b[1;33m\u001b[0m\u001b[1;33m\u001b[0m\u001b[0m\n\u001b[1;32m----> 2\u001b[1;33m \u001b[0mX_testMinor\u001b[0m \u001b[1;33m=\u001b[0m \u001b[0mX_test\u001b[0m\u001b[1;33m.\u001b[0m\u001b[0mcopy\u001b[0m\u001b[1;33m(\u001b[0m\u001b[1;33m)\u001b[0m\u001b[1;33m\u001b[0m\u001b[1;33m\u001b[0m\u001b[0m\n\u001b[0m\u001b[0;32m      3\u001b[0m \u001b[0mX_testBad\u001b[0m \u001b[1;33m=\u001b[0m \u001b[0mX_test\u001b[0m\u001b[1;33m.\u001b[0m\u001b[0mcopy\u001b[0m\u001b[1;33m(\u001b[0m\u001b[1;33m)\u001b[0m\u001b[1;33m\u001b[0m\u001b[1;33m\u001b[0m\u001b[0m\n\u001b[0;32m      4\u001b[0m \u001b[1;33m\u001b[0m\u001b[0m\n\u001b[0;32m      5\u001b[0m \u001b[0mX_testMinor\u001b[0m\u001b[1;33m[\u001b[0m\u001b[1;34m\"accident_severity\"\u001b[0m\u001b[1;33m]\u001b[0m \u001b[1;33m=\u001b[0m \u001b[0my_pred\u001b[0m\u001b[1;33m.\u001b[0m\u001b[0mcopy\u001b[0m\u001b[1;33m(\u001b[0m\u001b[1;33m)\u001b[0m\u001b[1;33m\u001b[0m\u001b[1;33m\u001b[0m\u001b[0m\n",
      "\u001b[1;31mNameError\u001b[0m: name 'X_test' is not defined"
     ]
    }
   ],
   "source": [
    "#  the distribution of 3 type f acc. by the model\n",
    "X_testMinor = X_test.copy()\n",
    "X_testBad = X_test.copy()\n",
    "\n",
    "X_testMinor[\"accident_severity\"] = y_pred.copy()\n",
    "X_testBad[\"accident_severity\"] = y_pred.copy()\n",
    "df_Acc_Bad = X_testBad[(X_testBad.accident_severity != 3) ]\n",
    "df_Acc_Minor = X_testMinor[(X_testMinor.accident_severity == 3) ]\n",
    "\n",
    "fig = df_Acc_Minor.groupby(['accident_year', 'accident_severity'])['accident_id'].sum().unstack().plot(\n",
    "    figsize=(14, 8), linewidth=2)\n",
    "\n",
    "fig.set_title('Minor Acc at period time')\n",
    "fig.set_ylabel('Num Acc')\n",
    "\n",
    "fig = df_Acc_Bad.groupby(['accident_year', 'accident_severity'])['accident_id'].sum().unstack().plot(\n",
    "    figsize=(14, 8), linewidth=2)\n",
    "\n",
    "fig.set_title('Bad Acc at period time')\n",
    "fig.set_ylabel('Num Acc')\n"
   ]
  },
  {
   "cell_type": "code",
   "execution_count": null,
   "metadata": {
    "id": "5VhufkPf7Mrb"
   },
   "outputs": [],
   "source": []
  },
  {
   "cell_type": "code",
   "execution_count": null,
   "metadata": {
    "id": "aUSlPRx37MuJ"
   },
   "outputs": [],
   "source": []
  },
  {
   "cell_type": "code",
   "execution_count": null,
   "metadata": {
    "id": "WrGwIF3c7Mxw"
   },
   "outputs": [],
   "source": []
  },
  {
   "cell_type": "code",
   "execution_count": null,
   "metadata": {
    "id": "5GZHw37i5bvL"
   },
   "outputs": [],
   "source": []
  },
  {
   "cell_type": "code",
   "execution_count": null,
   "metadata": {
    "id": "FXNwUbVC5bxs"
   },
   "outputs": [],
   "source": []
  },
  {
   "cell_type": "code",
   "execution_count": null,
   "metadata": {
    "id": "K3c3SrZY5b0p"
   },
   "outputs": [],
   "source": []
  },
  {
   "cell_type": "code",
   "execution_count": null,
   "metadata": {
    "id": "wjm_uyEo5b6M"
   },
   "outputs": [],
   "source": [
    "####################################################"
   ]
  },
  {
   "cell_type": "code",
   "execution_count": null,
   "metadata": {
    "id": "Oxvi_T-LNDfM"
   },
   "outputs": [],
   "source": []
  }
 ],
 "metadata": {
  "colab": {
   "collapsed_sections": [],
   "name": "5_Hyperparameters Finetuning .ipynb",
   "provenance": []
  },
  "kernelspec": {
   "display_name": "Python 3",
   "language": "python",
   "name": "python3"
  },
  "language_info": {
   "codemirror_mode": {
    "name": "ipython",
    "version": 3
   },
   "file_extension": ".py",
   "mimetype": "text/x-python",
   "name": "python",
   "nbconvert_exporter": "python",
   "pygments_lexer": "ipython3",
   "version": "3.7.3"
  }
 },
 "nbformat": 4,
 "nbformat_minor": 1
}
